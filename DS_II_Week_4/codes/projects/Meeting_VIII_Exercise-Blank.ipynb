{
 "cells": [
  {
   "cell_type": "markdown",
   "metadata": {},
   "source": [
    "## Exercise Image Processing\n",
    "1. Download beberapa gambar yang ada di internet atau koleksi pribadi.\n",
    "2. Gunakan Numpy untuk melakukan processing sederhana seperti flip horizontal atau vertical.\n",
    "3. Gunakan setiap teknik Image Processing dibawah ini terhadap gambar yang berbeda-beda:\n",
    " * Thresholding\n",
    " * Filtering\n",
    " * Contrast Enhancement\n",
    " * Transformation\n",
    " * Edge Detection\n",
    " * Corner Detection\n",
    "4. Coba menggunakan foto pribadi atau foto yang tersedia di internet. \n",
    " * Terapkan Face Detection menggunakan Cascade Classifier"
   ]
  },
  {
   "cell_type": "code",
   "execution_count": null,
   "metadata": {},
   "outputs": [],
   "source": []
  }
 ],
 "metadata": {
  "kernelspec": {
   "display_name": "Python 3",
   "language": "python",
   "name": "python3"
  },
  "language_info": {
   "codemirror_mode": {
    "name": "ipython",
    "version": 3
   },
   "file_extension": ".py",
   "mimetype": "text/x-python",
   "name": "python",
   "nbconvert_exporter": "python",
   "pygments_lexer": "ipython3",
   "version": "3.7.3"
  }
 },
 "nbformat": 4,
 "nbformat_minor": 2
}
