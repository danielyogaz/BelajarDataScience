{
 "cells": [
  {
   "cell_type": "markdown",
   "metadata": {},
   "source": [
    "### Regular Expression\n"
   ]
  },
  {
   "cell_type": "code",
   "execution_count": 1,
   "metadata": {
    "id": "1r6EcNniID4p"
   },
   "outputs": [],
   "source": [
    "import re\n"
   ]
  },
  {
   "cell_type": "code",
   "execution_count": 2,
   "metadata": {},
   "outputs": [
    {
     "name": "stderr",
     "output_type": "stream",
     "text": [
      "ERROR: unknown command \"instal\" - maybe you meant \"install\"\n",
      "\n"
     ]
    }
   ],
   "source": [
    "!pip instal scikit-image\n"
   ]
  },
  {
   "cell_type": "code",
   "execution_count": 3,
   "metadata": {},
   "outputs": [
    {
     "name": "stdout",
     "output_type": "stream",
     "text": [
      "Collecting scikit-image"
     ]
    },
    {
     "name": "stderr",
     "output_type": "stream",
     "text": [
      "\n",
      "[notice] A new release of pip is available: 23.1.2 -> 23.2.1\n",
      "[notice] To update, run: python.exe -m pip install --upgrade pip\n"
     ]
    },
    {
     "name": "stdout",
     "output_type": "stream",
     "text": [
      "\n",
      "  Downloading scikit_image-0.21.0-cp311-cp311-win_amd64.whl (22.8 MB)\n",
      "                                              0.0/22.8 MB ? eta -:--:--\n",
      "                                              0.4/22.8 MB 7.4 MB/s eta 0:00:04\n",
      "     -                                        0.9/22.8 MB 9.5 MB/s eta 0:00:03\n",
      "     --                                       1.4/22.8 MB 9.7 MB/s eta 0:00:03\n",
      "     ---                                      1.9/22.8 MB 11.1 MB/s eta 0:00:02\n",
      "     ----                                     2.6/22.8 MB 9.7 MB/s eta 0:00:03\n",
      "     -----                                    3.1/22.8 MB 10.3 MB/s eta 0:00:02\n",
      "     ------                                   3.7/22.8 MB 10.2 MB/s eta 0:00:02\n",
      "     -------                                  4.2/22.8 MB 10.2 MB/s eta 0:00:02\n",
      "     --------                                 4.7/22.8 MB 10.7 MB/s eta 0:00:02\n",
      "     ---------                                5.2/22.8 MB 10.7 MB/s eta 0:00:02\n",
      "     ---------                                5.6/22.8 MB 10.6 MB/s eta 0:00:02\n",
      "     ----------                               6.1/22.8 MB 10.3 MB/s eta 0:00:02\n",
      "     -----------                              6.7/22.8 MB 10.4 MB/s eta 0:00:02\n",
      "     ------------                             7.2/22.8 MB 10.5 MB/s eta 0:00:02\n",
      "     -------------                            7.7/22.8 MB 10.5 MB/s eta 0:00:02\n",
      "     --------------                           8.3/22.8 MB 10.6 MB/s eta 0:00:02\n",
      "     ---------------                          8.6/22.8 MB 10.4 MB/s eta 0:00:02\n",
      "     ---------------                          9.1/22.8 MB 10.3 MB/s eta 0:00:02\n",
      "     ----------------                         9.4/22.8 MB 10.2 MB/s eta 0:00:02\n",
      "     -----------------                        9.8/22.8 MB 10.3 MB/s eta 0:00:02\n",
      "     -----------------                       10.2/22.8 MB 10.2 MB/s eta 0:00:02\n",
      "     ------------------                      10.7/22.8 MB 10.2 MB/s eta 0:00:02\n",
      "     ------------------                      11.1/22.8 MB 10.1 MB/s eta 0:00:02\n",
      "     -------------------                     11.6/22.8 MB 10.1 MB/s eta 0:00:02\n",
      "     --------------------                    12.0/22.8 MB 10.1 MB/s eta 0:00:02\n",
      "     ---------------------                   12.5/22.8 MB 10.1 MB/s eta 0:00:02\n",
      "     ----------------------                  13.0/22.8 MB 10.1 MB/s eta 0:00:01\n",
      "     -----------------------                 13.4/22.8 MB 10.1 MB/s eta 0:00:01\n",
      "     -----------------------                 14.0/22.8 MB 10.1 MB/s eta 0:00:01\n",
      "     ------------------------                14.5/22.8 MB 10.1 MB/s eta 0:00:01\n",
      "     -------------------------               15.0/22.8 MB 10.2 MB/s eta 0:00:01\n",
      "     --------------------------              15.6/22.8 MB 10.1 MB/s eta 0:00:01\n",
      "     ---------------------------             16.1/22.8 MB 10.2 MB/s eta 0:00:01\n",
      "     ----------------------------            16.4/22.8 MB 10.1 MB/s eta 0:00:01\n",
      "     -----------------------------            16.7/22.8 MB 9.8 MB/s eta 0:00:01\n",
      "     ------------------------------           17.1/22.8 MB 9.8 MB/s eta 0:00:01\n",
      "     -------------------------------          17.7/22.8 MB 9.8 MB/s eta 0:00:01\n",
      "     --------------------------------         18.2/22.8 MB 9.8 MB/s eta 0:00:01\n",
      "     --------------------------------         18.7/22.8 MB 9.8 MB/s eta 0:00:01\n",
      "     ---------------------------------       19.3/22.8 MB 10.1 MB/s eta 0:00:01\n",
      "     ----------------------------------      19.8/22.8 MB 10.2 MB/s eta 0:00:01\n",
      "     ----------------------------------      20.4/22.8 MB 10.4 MB/s eta 0:00:01\n",
      "     -----------------------------------     20.9/22.8 MB 10.6 MB/s eta 0:00:01\n",
      "     ------------------------------------    21.5/22.8 MB 10.7 MB/s eta 0:00:01\n",
      "     -------------------------------------   22.0/22.8 MB 10.7 MB/s eta 0:00:01\n",
      "     --------------------------------------  22.6/22.8 MB 10.7 MB/s eta 0:00:01\n",
      "     --------------------------------------  22.8/22.8 MB 10.9 MB/s eta 0:00:01\n",
      "     --------------------------------------  22.8/22.8 MB 10.9 MB/s eta 0:00:01\n",
      "     --------------------------------------  22.8/22.8 MB 10.9 MB/s eta 0:00:01\n",
      "     --------------------------------------  22.8/22.8 MB 10.9 MB/s eta 0:00:01\n",
      "     --------------------------------------  22.8/22.8 MB 10.9 MB/s eta 0:00:01\n",
      "     --------------------------------------  22.8/22.8 MB 10.9 MB/s eta 0:00:01\n",
      "     --------------------------------------  22.8/22.8 MB 10.9 MB/s eta 0:00:01\n",
      "     --------------------------------------  22.8/22.8 MB 10.9 MB/s eta 0:00:01\n",
      "     --------------------------------------  22.8/22.8 MB 10.9 MB/s eta 0:00:01\n",
      "     --------------------------------------  22.8/22.8 MB 10.9 MB/s eta 0:00:01\n",
      "     --------------------------------------  22.8/22.8 MB 10.9 MB/s eta 0:00:01\n",
      "     ---------------------------------------- 22.8/22.8 MB 6.9 MB/s eta 0:00:00\n",
      "Requirement already satisfied: numpy>=1.21.1 in c:\\users\\daniel yoga p\\appdata\\local\\programs\\python\\python311\\lib\\site-packages (from scikit-image) (1.24.3)\n",
      "Requirement already satisfied: scipy>=1.8 in c:\\users\\daniel yoga p\\appdata\\local\\programs\\python\\python311\\lib\\site-packages (from scikit-image) (1.10.1)\n",
      "Requirement already satisfied: networkx>=2.8 in c:\\users\\daniel yoga p\\appdata\\local\\programs\\python\\python311\\lib\\site-packages (from scikit-image) (3.1)\n",
      "Requirement already satisfied: pillow>=9.0.1 in c:\\users\\daniel yoga p\\appdata\\local\\programs\\python\\python311\\lib\\site-packages (from scikit-image) (9.5.0)\n",
      "Collecting imageio>=2.27 (from scikit-image)\n",
      "  Downloading imageio-2.31.1-py3-none-any.whl (313 kB)\n",
      "                                              0.0/313.2 kB ? eta -:--:--\n",
      "     ------------------------------------  307.2/313.2 kB 19.8 MB/s eta 0:00:01\n",
      "     ------------------------------------  307.2/313.2 kB 19.8 MB/s eta 0:00:01\n",
      "     -------------------------------------- 313.2/313.2 kB 2.4 MB/s eta 0:00:00\n",
      "Collecting tifffile>=2022.8.12 (from scikit-image)\n",
      "  Downloading tifffile-2023.7.18-py3-none-any.whl (221 kB)\n",
      "                                              0.0/221.4 kB ? eta -:--:--\n",
      "     -----------------------------------   215.0/221.4 kB 13.7 MB/s eta 0:00:01\n",
      "     -----------------------------------   215.0/221.4 kB 13.7 MB/s eta 0:00:01\n",
      "     -------------------------------------- 221.4/221.4 kB 1.7 MB/s eta 0:00:00\n",
      "Collecting PyWavelets>=1.1.1 (from scikit-image)\n",
      "  Downloading PyWavelets-1.4.1-cp311-cp311-win_amd64.whl (4.2 MB)\n",
      "                                              0.0/4.2 MB ? eta -:--:--\n",
      "     ------                                   0.6/4.2 MB 13.3 MB/s eta 0:00:01\n",
      "     -----------                              1.2/4.2 MB 12.8 MB/s eta 0:00:01\n",
      "     -----------------                        1.8/4.2 MB 11.3 MB/s eta 0:00:01\n",
      "     ----------------------                   2.3/4.2 MB 11.4 MB/s eta 0:00:01\n",
      "     ---------------------------              2.9/4.2 MB 11.5 MB/s eta 0:00:01\n",
      "     --------------------------------         3.4/4.2 MB 11.5 MB/s eta 0:00:01\n",
      "     --------------------------------------   4.0/4.2 MB 11.6 MB/s eta 0:00:01\n",
      "     ---------------------------------------  4.2/4.2 MB 11.6 MB/s eta 0:00:01\n",
      "     ---------------------------------------  4.2/4.2 MB 11.6 MB/s eta 0:00:01\n",
      "     ---------------------------------------  4.2/4.2 MB 11.6 MB/s eta 0:00:01\n",
      "     ---------------------------------------  4.2/4.2 MB 11.6 MB/s eta 0:00:01\n",
      "     ---------------------------------------  4.2/4.2 MB 11.6 MB/s eta 0:00:01\n",
      "     ---------------------------------------  4.2/4.2 MB 11.6 MB/s eta 0:00:01\n",
      "     ---------------------------------------  4.2/4.2 MB 11.6 MB/s eta 0:00:01\n",
      "     ---------------------------------------  4.2/4.2 MB 11.6 MB/s eta 0:00:01\n",
      "     ---------------------------------------  4.2/4.2 MB 11.6 MB/s eta 0:00:01\n",
      "     ---------------------------------------  4.2/4.2 MB 11.6 MB/s eta 0:00:01\n",
      "     ---------------------------------------  4.2/4.2 MB 11.6 MB/s eta 0:00:01\n",
      "     ---------------------------------------  4.2/4.2 MB 11.6 MB/s eta 0:00:01\n",
      "     ---------------------------------------  4.2/4.2 MB 11.6 MB/s eta 0:00:01\n",
      "     ---------------------------------------  4.2/4.2 MB 11.6 MB/s eta 0:00:01\n",
      "     ---------------------------------------  4.2/4.2 MB 11.6 MB/s eta 0:00:01\n",
      "     ---------------------------------------  4.2/4.2 MB 11.6 MB/s eta 0:00:01\n",
      "     ---------------------------------------  4.2/4.2 MB 11.6 MB/s eta 0:00:01\n",
      "     ---------------------------------------  4.2/4.2 MB 11.6 MB/s eta 0:00:01\n",
      "     ---------------------------------------  4.2/4.2 MB 11.6 MB/s eta 0:00:01\n",
      "     ---------------------------------------  4.2/4.2 MB 11.6 MB/s eta 0:00:01\n",
      "     ---------------------------------------  4.2/4.2 MB 11.6 MB/s eta 0:00:01\n",
      "     ---------------------------------------- 4.2/4.2 MB 3.0 MB/s eta 0:00:00\n",
      "Requirement already satisfied: packaging>=21 in c:\\users\\daniel yoga p\\appdata\\local\\programs\\python\\python311\\lib\\site-packages (from scikit-image) (23.1)\n",
      "Collecting lazy_loader>=0.2 (from scikit-image)\n",
      "  Downloading lazy_loader-0.3-py3-none-any.whl (9.1 kB)\n",
      "Installing collected packages: tifffile, PyWavelets, lazy_loader, imageio, scikit-image\n",
      "Successfully installed PyWavelets-1.4.1 imageio-2.31.1 lazy_loader-0.3 scikit-image-0.21.0 tifffile-2023.7.18\n"
     ]
    }
   ],
   "source": [
    "!pip install scikit-image\n"
   ]
  },
  {
   "cell_type": "code",
   "execution_count": 78,
   "metadata": {},
   "outputs": [
    {
     "data": {
      "text/plain": [
       "['Anwar+']"
      ]
     },
     "execution_count": 78,
     "metadata": {},
     "output_type": "execute_result"
    }
   ],
   "source": [
    "string = \"Anwar+ anwar ANwar ANWAR anwaR Amwar Apwar\"\n",
    "pattern = r\"Anwar\\+\"\n",
    "re.findall(pattern, string)"
   ]
  },
  {
   "cell_type": "code",
   "execution_count": 79,
   "metadata": {},
   "outputs": [
    {
     "data": {
      "text/plain": [
       "['Anwar', 'ANwar', 'Amwar', 'Apwar', 'A6war', 'A#war']"
      ]
     },
     "execution_count": 79,
     "metadata": {},
     "output_type": "execute_result"
    }
   ],
   "source": [
    "#(.)untuk semuanya \n",
    "string = \"Anwar anwar ANwar ANWAR anwaR Amwar Apwar A6war A#war Awar\" # A_war\n",
    "pattern = r\"A.war\"\n",
    "re.findall(pattern, string)"
   ]
  },
  {
   "cell_type": "code",
   "execution_count": 82,
   "metadata": {},
   "outputs": [
    {
     "data": {
      "text/plain": [
       "['Sun6', 'Sol4']"
      ]
     },
     "execution_count": 82,
     "metadata": {},
     "output_type": "execute_result"
    }
   ],
   "source": [
    "string = \"Sun6 Sunny Sunset Super6 Sol4 Solar S*m5\" #.>m>\\d> []\n",
    "pattern = r\"S\\w\\w\\d\"\n",
    "re.findall(pattern, string)"
   ]
  },
  {
   "cell_type": "code",
   "execution_count": 83,
   "metadata": {},
   "outputs": [
    {
     "data": {
      "text/plain": [
       "['Anwar', 'Annwar', 'Annnwar']"
      ]
     },
     "execution_count": 83,
     "metadata": {},
     "output_type": "execute_result"
    }
   ],
   "source": [
    "string = \"Awar Anwar Annwar Annnwar\" # A_war\n",
    "pattern = r\"An{1,3}war\"\n",
    "re.findall(pattern, string)"
   ]
  },
  {
   "cell_type": "code",
   "execution_count": 86,
   "metadata": {},
   "outputs": [
    {
     "data": {
      "text/plain": [
       "['Anwar', 'Annwar', 'Annnwar']"
      ]
     },
     "execution_count": 86,
     "metadata": {},
     "output_type": "execute_result"
    }
   ],
   "source": [
    "string = \"Awar Anwar Annwar Annnwar\" # A_war\n",
    "pattern = r\"An+war\"\n",
    "re.findall(pattern, string)"
   ]
  },
  {
   "cell_type": "code",
   "execution_count": 87,
   "metadata": {},
   "outputs": [
    {
     "data": {
      "text/plain": [
       "['Annwar', 'Annnwar', 'Asswar', 'Ammwar']"
      ]
     },
     "execution_count": 87,
     "metadata": {},
     "output_type": "execute_result"
    }
   ],
   "source": [
    "string = \"Awar Anwar Annwar Annnwar Amwar Asswar Ammwar\"\n",
    "pattern = r\"A\\w{2,3}war\"\n",
    "re.findall(pattern, string)"
   ]
  },
  {
   "cell_type": "markdown",
   "metadata": {},
   "source": [
    "### Example"
   ]
  },
  {
   "cell_type": "code",
   "execution_count": 95,
   "metadata": {},
   "outputs": [
    {
     "data": {
      "text/plain": [
       "['nyomanprayana@gmail.com']"
      ]
     },
     "execution_count": 95,
     "metadata": {},
     "output_type": "execute_result"
    }
   ],
   "source": [
    "# sebelum @, itu karakternya pasti alphanumerik\n",
    "# setelah @, itu karakternya pasti alphanumerik selalu diapit dengan '.com'\n",
    "\n",
    "string = \"My email address is nyomanprayana@gmail.com and my twitter account is @dadadudu\"\n",
    "pattern = r\"\\w+@\\w+\\.com\"\n",
    "re.findall(pattern, string)"
   ]
  },
  {
   "cell_type": "code",
   "execution_count": 96,
   "metadata": {},
   "outputs": [
    {
     "data": {
      "text/plain": [
       "['nyomanprayana']"
      ]
     },
     "execution_count": 96,
     "metadata": {},
     "output_type": "execute_result"
    }
   ],
   "source": [
    "# sebelum @, itu karakternya pasti alphanumerik\n",
    "# setelah @, itu karakternya pasti alphanumerik selalu diapit dengan '.com'\n",
    "\n",
    "string = \"My email address is nyomanprayana@gmail.com and my twitter account is @dadadudu\"\n",
    "pattern = r\"(\\w+)@\\w+\\.com\"\n",
    "re.findall(pattern, string)"
   ]
  },
  {
   "cell_type": "code",
   "execution_count": 111,
   "metadata": {},
   "outputs": [
    {
     "data": {
      "text/plain": [
       "[]"
      ]
     },
     "execution_count": 111,
     "metadata": {},
     "output_type": "execute_result"
    }
   ],
   "source": [
    "# sebelum @, itu karakternya pasti alphanumerik\n",
    "# setelah @, itu karakternya pasti alphanumerik selalu diapit dengan '.com'\n",
    "# $, akhir\n",
    "#^ = start\n",
    "string = \"My email address is nyomanprayana@gmail.com and my twitter account is @tatat \"\n",
    "pattern = r\"@\\w+$\"\n",
    "re.findall(pattern, string)"
   ]
  },
  {
   "cell_type": "code",
   "execution_count": 113,
   "metadata": {},
   "outputs": [
    {
     "data": {
      "text/plain": [
       "['@dadadudu ', '@xixixi']"
      ]
     },
     "execution_count": 113,
     "metadata": {},
     "output_type": "execute_result"
    }
   ],
   "source": [
    "string = \"My email address is nyomanprayana@gmail.com and my twitter account is @dadadudu and @xixixi\"\n",
    "pattern = r\"@\\w+$|@\\w+ \"\n",
    "re.findall(pattern, string)"
   ]
  },
  {
   "cell_type": "code",
   "execution_count": 120,
   "metadata": {},
   "outputs": [
    {
     "data": {
      "text/plain": [
       "['@dadadudu ', '@xixixi ']"
      ]
     },
     "execution_count": 120,
     "metadata": {},
     "output_type": "execute_result"
    }
   ],
   "source": [
    "# sebelum @, itu karakternya pasti alphanumerik\n",
    "# setelah @, itu karakternya pasti alphanumerik selalu diapit dengan '.com'\n",
    "# $, akhir\n",
    "#^ = start\n",
    "string = \"My email address is nyomanprayana@gmail.com and my twitter account is @dadadudu and @xixixi \"\n",
    "pattern = r\"@\\w+? \"\n",
    "re.findall(pattern, string)"
   ]
  },
  {
   "cell_type": "code",
   "execution_count": 121,
   "metadata": {},
   "outputs": [
    {
     "data": {
      "text/plain": [
       "['@gmail.com and my twitter account is @dadadudu and @xixixi ']"
      ]
     },
     "execution_count": 121,
     "metadata": {},
     "output_type": "execute_result"
    }
   ],
   "source": [
    "# sebelum @, itu karakternya pasti alphanumerik\n",
    "# setelah @, itu karakternya pasti alphanumerik selalu diapit dengan '.com'\n",
    "# $, akhir\n",
    "#^ = start\n",
    "string = \"My email address is nyomanprayana@gmail.com and my twitter account is @dadadudu and @xixixi \"\n",
    "pattern = r\"@.+ \"\n",
    "re.findall(pattern, string)"
   ]
  },
  {
   "cell_type": "code",
   "execution_count": 122,
   "metadata": {},
   "outputs": [
    {
     "data": {
      "text/plain": [
       "['@gmail.com and my twitter account is @dadadudu and @xixixi ']"
      ]
     },
     "execution_count": 122,
     "metadata": {},
     "output_type": "execute_result"
    }
   ],
   "source": [
    "string = \"My email address is nyomanprayana@gmail.com and my twitter account is @dadadudu and @xixixi \"\n",
    "pattern = r\"@.+ \"\n",
    "re.findall(pattern, string)"
   ]
  },
  {
   "cell_type": "code",
   "execution_count": null,
   "metadata": {},
   "outputs": [],
   "source": []
  },
  {
   "cell_type": "code",
   "execution_count": null,
   "metadata": {},
   "outputs": [],
   "source": []
  },
  {
   "cell_type": "code",
   "execution_count": null,
   "metadata": {},
   "outputs": [],
   "source": [
    "string = \"Awar Anwar Annwar Annnwar\" # A_war\n",
    "pattern = r\"An{,3}war\"\n",
    "re.findall(pattern, string)"
   ]
  },
  {
   "cell_type": "code",
   "execution_count": 4,
   "metadata": {},
   "outputs": [
    {
     "data": {
      "text/plain": [
       "['name']"
      ]
     },
     "execution_count": 4,
     "metadata": {},
     "output_type": "execute_result"
    }
   ],
   "source": [
    "text = 'My nama is Daniel and your name is too'\n",
    "pattern = r'name'\n",
    "obj = re.findall(pattern, text)\n",
    "obj"
   ]
  },
  {
   "cell_type": "code",
   "execution_count": 6,
   "metadata": {},
   "outputs": [
    {
     "data": {
      "text/plain": [
       "['Python', 'python']"
      ]
     },
     "execution_count": 6,
     "metadata": {},
     "output_type": "execute_result"
    }
   ],
   "source": [
    "text = 'Python python Lython'\n",
    "pattern = r'[Pp]ython'\n",
    "obj1 = re.findall(pattern,text)\n",
    "obj1\n"
   ]
  },
  {
   "cell_type": "code",
   "execution_count": 7,
   "metadata": {},
   "outputs": [
    {
     "data": {
      "text/plain": [
       "['88abc', '29acp']"
      ]
     },
     "execution_count": 7,
     "metadata": {},
     "output_type": "execute_result"
    }
   ],
   "source": [
    "text = '88abc 29acp 9axxA'\n",
    "pattern = r'\\d\\da\\w\\w'\n",
    "obj = re.findall(pattern,text)\n",
    "obj\n"
   ]
  },
  {
   "cell_type": "code",
   "execution_count": 8,
   "metadata": {},
   "outputs": [
    {
     "data": {
      "text/plain": [
       "['imas', 'ima ', '*man', '0mas']"
      ]
     },
     "execution_count": 8,
     "metadata": {},
     "output_type": "execute_result"
    }
   ],
   "source": [
    "text = 'dimas Bima *man 00mas'\n",
    "pattern = r'.ma.'\n",
    "obj = re.findall(pattern,text)\n",
    "obj\n"
   ]
  },
  {
   "cell_type": "code",
   "execution_count": 9,
   "metadata": {},
   "outputs": [
    {
     "data": {
      "text/plain": [
       "['AkuAlaku']"
      ]
     },
     "execution_count": 9,
     "metadata": {},
     "output_type": "execute_result"
    }
   ],
   "source": [
    "text = 'AkuAlaku'\n",
    "pattern = r'A.+u'\n",
    "obj = re.findall(pattern,text)\n",
    "obj"
   ]
  },
  {
   "cell_type": "code",
   "execution_count": 10,
   "metadata": {},
   "outputs": [
    {
     "data": {
      "text/plain": [
       "['Aku', 'Alaku']"
      ]
     },
     "execution_count": 10,
     "metadata": {},
     "output_type": "execute_result"
    }
   ],
   "source": [
    "text = 'AkuAlaku'\n",
    "pattern = r'A.+?u'\n",
    "obj = re.findall(pattern,text)\n",
    "obj\n"
   ]
  },
  {
   "cell_type": "code",
   "execution_count": 14,
   "metadata": {},
   "outputs": [
    {
     "data": {
      "text/plain": [
       "[('My', 'Daniel'), ('Your', 'Beta')]"
      ]
     },
     "execution_count": 14,
     "metadata": {},
     "output_type": "execute_result"
    }
   ],
   "source": [
    "text = \"My name is Daniel. Your name is Beta. Name is good\"\n",
    "pattern = r\"(.*?) name is (.*?)\\.\\s?\"\n",
    "obj = re.findall(pattern, text)\n",
    "obj"
   ]
  },
  {
   "cell_type": "code",
   "execution_count": 17,
   "metadata": {},
   "outputs": [
    {
     "data": {
      "text/plain": [
       "[]"
      ]
     },
     "execution_count": 17,
     "metadata": {},
     "output_type": "execute_result"
    }
   ],
   "source": [
    "text = \"My name is Daniel. Your name is Beta. Name is good\"\n",
    "pattern = r\"([Mm]y | [Yy]our) name('s| is') (.*?)\\.\"\n",
    "obj = re.findall(pattern, text)\n",
    "obj"
   ]
  },
  {
   "cell_type": "markdown",
   "metadata": {},
   "source": [
    "### text Preprocessing\n"
   ]
  },
  {
   "cell_type": "code",
   "execution_count": 194,
   "metadata": {},
   "outputs": [],
   "source": [
    "text = \"My current job as data scientist gives me a vast amount of benefit! I would thank my past referee for her guidance here.\"\n"
   ]
  },
  {
   "cell_type": "markdown",
   "metadata": {},
   "source": [
    "#### Tokenization"
   ]
  },
  {
   "cell_type": "code",
   "execution_count": 195,
   "metadata": {},
   "outputs": [],
   "source": [
    "import nltk"
   ]
  },
  {
   "cell_type": "code",
   "execution_count": 196,
   "metadata": {},
   "outputs": [
    {
     "data": {
      "text/plain": [
       "['My',\n",
       " 'current',\n",
       " 'job',\n",
       " 'as',\n",
       " 'data',\n",
       " 'scientist',\n",
       " 'gives',\n",
       " 'me',\n",
       " 'a',\n",
       " 'vast',\n",
       " 'amount',\n",
       " 'of',\n",
       " 'benefit',\n",
       " '!',\n",
       " 'I',\n",
       " 'would',\n",
       " 'thank',\n",
       " 'my',\n",
       " 'past',\n",
       " 'referee',\n",
       " 'for',\n",
       " 'her',\n",
       " 'guidance',\n",
       " 'here',\n",
       " '.']"
      ]
     },
     "execution_count": 196,
     "metadata": {},
     "output_type": "execute_result"
    }
   ],
   "source": [
    "from nltk import word_tokenize\n",
    "word_tokenize(text)"
   ]
  },
  {
   "cell_type": "markdown",
   "metadata": {},
   "source": [
    "### Case folding"
   ]
  },
  {
   "cell_type": "code",
   "execution_count": 197,
   "metadata": {
    "scrolled": true
   },
   "outputs": [
    {
     "data": {
      "text/plain": [
       "'my current job as data scientist gives me a vast amount of benefit! i would thank my past referee for her guidance here.'"
      ]
     },
     "execution_count": 197,
     "metadata": {},
     "output_type": "execute_result"
    }
   ],
   "source": [
    "text.lower()\n"
   ]
  },
  {
   "cell_type": "code",
   "execution_count": 131,
   "metadata": {},
   "outputs": [],
   "source": [
    "text_tokenized_folded = word_tokenize(text.lower())"
   ]
  },
  {
   "cell_type": "markdown",
   "metadata": {},
   "source": [
    "### Removal"
   ]
  },
  {
   "cell_type": "code",
   "execution_count": 133,
   "metadata": {},
   "outputs": [],
   "source": [
    "from nltk.corpus import stopwords"
   ]
  },
  {
   "cell_type": "code",
   "execution_count": 134,
   "metadata": {},
   "outputs": [],
   "source": [
    "sw = stopwords.words('english')"
   ]
  },
  {
   "cell_type": "code",
   "execution_count": 139,
   "metadata": {},
   "outputs": [
    {
     "data": {
      "text/plain": [
       "['current',\n",
       " 'job',\n",
       " 'data',\n",
       " 'scientist',\n",
       " 'gives',\n",
       " 'vast',\n",
       " 'amount',\n",
       " 'benefit',\n",
       " '!',\n",
       " 'would',\n",
       " 'thank',\n",
       " 'past',\n",
       " 'referee',\n",
       " 'guidance',\n",
       " '.']"
      ]
     },
     "execution_count": 139,
     "metadata": {},
     "output_type": "execute_result"
    }
   ],
   "source": [
    "# List comprehension\n",
    "\n",
    "text_stopword_removed = []\n",
    "for text in text_tokenized_folded:\n",
    "    if text not in sw:\n",
    "        text_stopword_removed.append(text)\n",
    "text_stopword_removed"
   ]
  },
  {
   "cell_type": "code",
   "execution_count": 143,
   "metadata": {
    "scrolled": true
   },
   "outputs": [
    {
     "data": {
      "text/plain": [
       "['current',\n",
       " 'job',\n",
       " 'data',\n",
       " 'scientist',\n",
       " 'gives',\n",
       " 'vast',\n",
       " 'amount',\n",
       " 'benefit',\n",
       " '!',\n",
       " 'would',\n",
       " 'thank',\n",
       " 'past',\n",
       " 'referee',\n",
       " 'guidance',\n",
       " '.']"
      ]
     },
     "execution_count": 143,
     "metadata": {},
     "output_type": "execute_result"
    }
   ],
   "source": [
    "#cara comprehension yang cepat\n",
    "text_stopword_removed = [text for text in text_tokenized_folded if text not in sw]\n",
    "text_stopword_removed\n"
   ]
  },
  {
   "cell_type": "code",
   "execution_count": 160,
   "metadata": {},
   "outputs": [
    {
     "data": {
      "text/plain": [
       "['current',\n",
       " 'job',\n",
       " 'data',\n",
       " 'scientist',\n",
       " 'gives',\n",
       " 'vast',\n",
       " 'amount',\n",
       " 'benefit',\n",
       " '!',\n",
       " 'would',\n",
       " 'thank',\n",
       " 'past',\n",
       " 'referee',\n",
       " 'guidance',\n",
       " '.']"
      ]
     },
     "execution_count": 160,
     "metadata": {},
     "output_type": "execute_result"
    }
   ],
   "source": [
    "text_stopword_removed = []\n",
    "for text in text_tokenized_folded:\n",
    "    if text not in sw:\n",
    "        text_stopword_removed.append(text)\n",
    "text_stopword_removed"
   ]
  },
  {
   "cell_type": "markdown",
   "metadata": {},
   "source": [
    "### Punctuation Removal"
   ]
  },
  {
   "cell_type": "code",
   "execution_count": 159,
   "metadata": {
    "scrolled": true
   },
   "outputs": [
    {
     "data": {
      "text/plain": [
       "['current',\n",
       " 'job',\n",
       " 'data',\n",
       " 'scientist',\n",
       " 'gives',\n",
       " 'vast',\n",
       " 'amount',\n",
       " 'benefit',\n",
       " '!',\n",
       " 'would',\n",
       " 'thank',\n",
       " 'past',\n",
       " 'referee',\n",
       " 'guidance',\n",
       " '.']"
      ]
     },
     "execution_count": 159,
     "metadata": {},
     "output_type": "execute_result"
    }
   ],
   "source": [
    "text_punctuation_removed = [text for text in text_stopword_removed if text not punctuation]"
   ]
  },
  {
   "cell_type": "markdown",
   "metadata": {},
   "source": [
    "### Digit Removal\n"
   ]
  },
  {
   "cell_type": "code",
   "execution_count": 148,
   "metadata": {},
   "outputs": [
    {
     "data": {
      "text/plain": [
       "['current',\n",
       " 'job',\n",
       " 'data',\n",
       " 'scientist',\n",
       " 'gives',\n",
       " 'vast',\n",
       " 'amount',\n",
       " 'benefit',\n",
       " '!',\n",
       " 'would',\n",
       " 'thank',\n",
       " 'past',\n",
       " 'referee',\n",
       " 'guidance',\n",
       " '.']"
      ]
     },
     "execution_count": 148,
     "metadata": {},
     "output_type": "execute_result"
    }
   ],
   "source": [
    "text_digit_removed = [text for text in text_tokenized_folded if text not in sw and text not in punctuation and text.isdigit()==False]\n",
    "text_stopword_removed\n"
   ]
  },
  {
   "cell_type": "markdown",
   "metadata": {},
   "source": [
    "### Stemming dan Lemmatization"
   ]
  },
  {
   "cell_type": "code",
   "execution_count": null,
   "metadata": {},
   "outputs": [],
   "source": [
    "#mengubah ke kata dasar\n",
    "#stemming: menuliskan ->nulis\n",
    "#lematize: menuliskan -> nulis,flies ->fly"
   ]
  },
  {
   "cell_type": "code",
   "execution_count": 150,
   "metadata": {},
   "outputs": [],
   "source": [
    "from nltk.stem import PorterStemmer\n",
    "from nltk.stem import WordNetLemmatizer\n"
   ]
  },
  {
   "cell_type": "code",
   "execution_count": 151,
   "metadata": {},
   "outputs": [],
   "source": [
    "stemmer = PorterStemmer()\n",
    "lemmatizer = WordNetLemmatizer()\n"
   ]
  },
  {
   "cell_type": "code",
   "execution_count": 152,
   "metadata": {},
   "outputs": [
    {
     "data": {
      "text/plain": [
       "'fli'"
      ]
     },
     "execution_count": 152,
     "metadata": {},
     "output_type": "execute_result"
    }
   ],
   "source": [
    "stemmer.stem('flies')"
   ]
  },
  {
   "cell_type": "code",
   "execution_count": 154,
   "metadata": {},
   "outputs": [
    {
     "ename": "LookupError",
     "evalue": "\n**********************************************************************\n  Resource \u001b[93mwordnet\u001b[0m not found.\n  Please use the NLTK Downloader to obtain the resource:\n\n  \u001b[31m>>> import nltk\n  >>> nltk.download('wordnet')\n  \u001b[0m\n  For more information see: https://www.nltk.org/data.html\n\n  Attempted to load \u001b[93mcorpora/wordnet\u001b[0m\n\n  Searched in:\n    - 'C:\\\\Users\\\\daniel yoga p/nltk_data'\n    - 'C:\\\\Users\\\\daniel yoga p\\\\AppData\\\\Local\\\\Programs\\\\Python\\\\Python311\\\\nltk_data'\n    - 'C:\\\\Users\\\\daniel yoga p\\\\AppData\\\\Local\\\\Programs\\\\Python\\\\Python311\\\\share\\\\nltk_data'\n    - 'C:\\\\Users\\\\daniel yoga p\\\\AppData\\\\Local\\\\Programs\\\\Python\\\\Python311\\\\lib\\\\nltk_data'\n    - 'C:\\\\Users\\\\daniel yoga p\\\\AppData\\\\Roaming\\\\nltk_data'\n    - 'C:\\\\nltk_data'\n    - 'D:\\\\nltk_data'\n    - 'E:\\\\nltk_data'\n**********************************************************************\n",
     "output_type": "error",
     "traceback": [
      "\u001b[1;31m---------------------------------------------------------------------------\u001b[0m",
      "\u001b[1;31mLookupError\u001b[0m                               Traceback (most recent call last)",
      "File \u001b[1;32m~\\AppData\\Local\\Programs\\Python\\Python311\\Lib\\site-packages\\nltk\\corpus\\util.py:84\u001b[0m, in \u001b[0;36mLazyCorpusLoader.__load\u001b[1;34m(self)\u001b[0m\n\u001b[0;32m     83\u001b[0m \u001b[38;5;28;01mtry\u001b[39;00m:\n\u001b[1;32m---> 84\u001b[0m     root \u001b[38;5;241m=\u001b[39m \u001b[43mnltk\u001b[49m\u001b[38;5;241;43m.\u001b[39;49m\u001b[43mdata\u001b[49m\u001b[38;5;241;43m.\u001b[39;49m\u001b[43mfind\u001b[49m\u001b[43m(\u001b[49m\u001b[38;5;124;43mf\u001b[39;49m\u001b[38;5;124;43m\"\u001b[39;49m\u001b[38;5;132;43;01m{\u001b[39;49;00m\u001b[38;5;28;43mself\u001b[39;49m\u001b[38;5;241;43m.\u001b[39;49m\u001b[43msubdir\u001b[49m\u001b[38;5;132;43;01m}\u001b[39;49;00m\u001b[38;5;124;43m/\u001b[39;49m\u001b[38;5;132;43;01m{\u001b[39;49;00m\u001b[43mzip_name\u001b[49m\u001b[38;5;132;43;01m}\u001b[39;49;00m\u001b[38;5;124;43m\"\u001b[39;49m\u001b[43m)\u001b[49m\n\u001b[0;32m     85\u001b[0m \u001b[38;5;28;01mexcept\u001b[39;00m \u001b[38;5;167;01mLookupError\u001b[39;00m:\n",
      "File \u001b[1;32m~\\AppData\\Local\\Programs\\Python\\Python311\\Lib\\site-packages\\nltk\\data.py:583\u001b[0m, in \u001b[0;36mfind\u001b[1;34m(resource_name, paths)\u001b[0m\n\u001b[0;32m    582\u001b[0m resource_not_found \u001b[38;5;241m=\u001b[39m \u001b[38;5;124mf\u001b[39m\u001b[38;5;124m\"\u001b[39m\u001b[38;5;130;01m\\n\u001b[39;00m\u001b[38;5;132;01m{\u001b[39;00msep\u001b[38;5;132;01m}\u001b[39;00m\u001b[38;5;130;01m\\n\u001b[39;00m\u001b[38;5;132;01m{\u001b[39;00mmsg\u001b[38;5;132;01m}\u001b[39;00m\u001b[38;5;130;01m\\n\u001b[39;00m\u001b[38;5;132;01m{\u001b[39;00msep\u001b[38;5;132;01m}\u001b[39;00m\u001b[38;5;130;01m\\n\u001b[39;00m\u001b[38;5;124m\"\u001b[39m\n\u001b[1;32m--> 583\u001b[0m \u001b[38;5;28;01mraise\u001b[39;00m \u001b[38;5;167;01mLookupError\u001b[39;00m(resource_not_found)\n",
      "\u001b[1;31mLookupError\u001b[0m: \n**********************************************************************\n  Resource \u001b[93mwordnet\u001b[0m not found.\n  Please use the NLTK Downloader to obtain the resource:\n\n  \u001b[31m>>> import nltk\n  >>> nltk.download('wordnet')\n  \u001b[0m\n  For more information see: https://www.nltk.org/data.html\n\n  Attempted to load \u001b[93mcorpora/wordnet.zip/wordnet/\u001b[0m\n\n  Searched in:\n    - 'C:\\\\Users\\\\daniel yoga p/nltk_data'\n    - 'C:\\\\Users\\\\daniel yoga p\\\\AppData\\\\Local\\\\Programs\\\\Python\\\\Python311\\\\nltk_data'\n    - 'C:\\\\Users\\\\daniel yoga p\\\\AppData\\\\Local\\\\Programs\\\\Python\\\\Python311\\\\share\\\\nltk_data'\n    - 'C:\\\\Users\\\\daniel yoga p\\\\AppData\\\\Local\\\\Programs\\\\Python\\\\Python311\\\\lib\\\\nltk_data'\n    - 'C:\\\\Users\\\\daniel yoga p\\\\AppData\\\\Roaming\\\\nltk_data'\n    - 'C:\\\\nltk_data'\n    - 'D:\\\\nltk_data'\n    - 'E:\\\\nltk_data'\n**********************************************************************\n",
      "\nDuring handling of the above exception, another exception occurred:\n",
      "\u001b[1;31mLookupError\u001b[0m                               Traceback (most recent call last)",
      "Cell \u001b[1;32mIn[154], line 1\u001b[0m\n\u001b[1;32m----> 1\u001b[0m \u001b[43mlemmatizer\u001b[49m\u001b[38;5;241;43m.\u001b[39;49m\u001b[43mlemmatize\u001b[49m\u001b[43m(\u001b[49m\u001b[38;5;124;43m'\u001b[39;49m\u001b[38;5;124;43mgave\u001b[39;49m\u001b[38;5;124;43m'\u001b[39;49m\u001b[43m)\u001b[49m\n",
      "File \u001b[1;32m~\\AppData\\Local\\Programs\\Python\\Python311\\Lib\\site-packages\\nltk\\stem\\wordnet.py:45\u001b[0m, in \u001b[0;36mWordNetLemmatizer.lemmatize\u001b[1;34m(self, word, pos)\u001b[0m\n\u001b[0;32m     33\u001b[0m \u001b[38;5;28;01mdef\u001b[39;00m \u001b[38;5;21mlemmatize\u001b[39m(\u001b[38;5;28mself\u001b[39m, word: \u001b[38;5;28mstr\u001b[39m, pos: \u001b[38;5;28mstr\u001b[39m \u001b[38;5;241m=\u001b[39m \u001b[38;5;124m\"\u001b[39m\u001b[38;5;124mn\u001b[39m\u001b[38;5;124m\"\u001b[39m) \u001b[38;5;241m-\u001b[39m\u001b[38;5;241m>\u001b[39m \u001b[38;5;28mstr\u001b[39m:\n\u001b[0;32m     34\u001b[0m \u001b[38;5;250m    \u001b[39m\u001b[38;5;124;03m\"\"\"Lemmatize `word` using WordNet's built-in morphy function.\u001b[39;00m\n\u001b[0;32m     35\u001b[0m \u001b[38;5;124;03m    Returns the input word unchanged if it cannot be found in WordNet.\u001b[39;00m\n\u001b[0;32m     36\u001b[0m \n\u001b[1;32m   (...)\u001b[0m\n\u001b[0;32m     43\u001b[0m \u001b[38;5;124;03m    :return: The lemma of `word`, for the given `pos`.\u001b[39;00m\n\u001b[0;32m     44\u001b[0m \u001b[38;5;124;03m    \"\"\"\u001b[39;00m\n\u001b[1;32m---> 45\u001b[0m     lemmas \u001b[38;5;241m=\u001b[39m \u001b[43mwn\u001b[49m\u001b[38;5;241;43m.\u001b[39;49m\u001b[43m_morphy\u001b[49m(word, pos)\n\u001b[0;32m     46\u001b[0m     \u001b[38;5;28;01mreturn\u001b[39;00m \u001b[38;5;28mmin\u001b[39m(lemmas, key\u001b[38;5;241m=\u001b[39m\u001b[38;5;28mlen\u001b[39m) \u001b[38;5;28;01mif\u001b[39;00m lemmas \u001b[38;5;28;01melse\u001b[39;00m word\n",
      "File \u001b[1;32m~\\AppData\\Local\\Programs\\Python\\Python311\\Lib\\site-packages\\nltk\\corpus\\util.py:121\u001b[0m, in \u001b[0;36mLazyCorpusLoader.__getattr__\u001b[1;34m(self, attr)\u001b[0m\n\u001b[0;32m    118\u001b[0m \u001b[38;5;28;01mif\u001b[39;00m attr \u001b[38;5;241m==\u001b[39m \u001b[38;5;124m\"\u001b[39m\u001b[38;5;124m__bases__\u001b[39m\u001b[38;5;124m\"\u001b[39m:\n\u001b[0;32m    119\u001b[0m     \u001b[38;5;28;01mraise\u001b[39;00m \u001b[38;5;167;01mAttributeError\u001b[39;00m(\u001b[38;5;124m\"\u001b[39m\u001b[38;5;124mLazyCorpusLoader object has no attribute \u001b[39m\u001b[38;5;124m'\u001b[39m\u001b[38;5;124m__bases__\u001b[39m\u001b[38;5;124m'\u001b[39m\u001b[38;5;124m\"\u001b[39m)\n\u001b[1;32m--> 121\u001b[0m \u001b[38;5;28;43mself\u001b[39;49m\u001b[38;5;241;43m.\u001b[39;49m\u001b[43m__load\u001b[49m\u001b[43m(\u001b[49m\u001b[43m)\u001b[49m\n\u001b[0;32m    122\u001b[0m \u001b[38;5;66;03m# This looks circular, but its not, since __load() changes our\u001b[39;00m\n\u001b[0;32m    123\u001b[0m \u001b[38;5;66;03m# __class__ to something new:\u001b[39;00m\n\u001b[0;32m    124\u001b[0m \u001b[38;5;28;01mreturn\u001b[39;00m \u001b[38;5;28mgetattr\u001b[39m(\u001b[38;5;28mself\u001b[39m, attr)\n",
      "File \u001b[1;32m~\\AppData\\Local\\Programs\\Python\\Python311\\Lib\\site-packages\\nltk\\corpus\\util.py:86\u001b[0m, in \u001b[0;36mLazyCorpusLoader.__load\u001b[1;34m(self)\u001b[0m\n\u001b[0;32m     84\u001b[0m             root \u001b[38;5;241m=\u001b[39m nltk\u001b[38;5;241m.\u001b[39mdata\u001b[38;5;241m.\u001b[39mfind(\u001b[38;5;124mf\u001b[39m\u001b[38;5;124m\"\u001b[39m\u001b[38;5;132;01m{\u001b[39;00m\u001b[38;5;28mself\u001b[39m\u001b[38;5;241m.\u001b[39msubdir\u001b[38;5;132;01m}\u001b[39;00m\u001b[38;5;124m/\u001b[39m\u001b[38;5;132;01m{\u001b[39;00mzip_name\u001b[38;5;132;01m}\u001b[39;00m\u001b[38;5;124m\"\u001b[39m)\n\u001b[0;32m     85\u001b[0m         \u001b[38;5;28;01mexcept\u001b[39;00m \u001b[38;5;167;01mLookupError\u001b[39;00m:\n\u001b[1;32m---> 86\u001b[0m             \u001b[38;5;28;01mraise\u001b[39;00m e\n\u001b[0;32m     88\u001b[0m \u001b[38;5;66;03m# Load the corpus.\u001b[39;00m\n\u001b[0;32m     89\u001b[0m corpus \u001b[38;5;241m=\u001b[39m \u001b[38;5;28mself\u001b[39m\u001b[38;5;241m.\u001b[39m__reader_cls(root, \u001b[38;5;241m*\u001b[39m\u001b[38;5;28mself\u001b[39m\u001b[38;5;241m.\u001b[39m__args, \u001b[38;5;241m*\u001b[39m\u001b[38;5;241m*\u001b[39m\u001b[38;5;28mself\u001b[39m\u001b[38;5;241m.\u001b[39m__kwargs)\n",
      "File \u001b[1;32m~\\AppData\\Local\\Programs\\Python\\Python311\\Lib\\site-packages\\nltk\\corpus\\util.py:81\u001b[0m, in \u001b[0;36mLazyCorpusLoader.__load\u001b[1;34m(self)\u001b[0m\n\u001b[0;32m     79\u001b[0m \u001b[38;5;28;01melse\u001b[39;00m:\n\u001b[0;32m     80\u001b[0m     \u001b[38;5;28;01mtry\u001b[39;00m:\n\u001b[1;32m---> 81\u001b[0m         root \u001b[38;5;241m=\u001b[39m \u001b[43mnltk\u001b[49m\u001b[38;5;241;43m.\u001b[39;49m\u001b[43mdata\u001b[49m\u001b[38;5;241;43m.\u001b[39;49m\u001b[43mfind\u001b[49m\u001b[43m(\u001b[49m\u001b[38;5;124;43mf\u001b[39;49m\u001b[38;5;124;43m\"\u001b[39;49m\u001b[38;5;132;43;01m{\u001b[39;49;00m\u001b[38;5;28;43mself\u001b[39;49m\u001b[38;5;241;43m.\u001b[39;49m\u001b[43msubdir\u001b[49m\u001b[38;5;132;43;01m}\u001b[39;49;00m\u001b[38;5;124;43m/\u001b[39;49m\u001b[38;5;132;43;01m{\u001b[39;49;00m\u001b[38;5;28;43mself\u001b[39;49m\u001b[38;5;241;43m.\u001b[39;49m\u001b[43m__name\u001b[49m\u001b[38;5;132;43;01m}\u001b[39;49;00m\u001b[38;5;124;43m\"\u001b[39;49m\u001b[43m)\u001b[49m\n\u001b[0;32m     82\u001b[0m     \u001b[38;5;28;01mexcept\u001b[39;00m \u001b[38;5;167;01mLookupError\u001b[39;00m \u001b[38;5;28;01mas\u001b[39;00m e:\n\u001b[0;32m     83\u001b[0m         \u001b[38;5;28;01mtry\u001b[39;00m:\n",
      "File \u001b[1;32m~\\AppData\\Local\\Programs\\Python\\Python311\\Lib\\site-packages\\nltk\\data.py:583\u001b[0m, in \u001b[0;36mfind\u001b[1;34m(resource_name, paths)\u001b[0m\n\u001b[0;32m    581\u001b[0m sep \u001b[38;5;241m=\u001b[39m \u001b[38;5;124m\"\u001b[39m\u001b[38;5;124m*\u001b[39m\u001b[38;5;124m\"\u001b[39m \u001b[38;5;241m*\u001b[39m \u001b[38;5;241m70\u001b[39m\n\u001b[0;32m    582\u001b[0m resource_not_found \u001b[38;5;241m=\u001b[39m \u001b[38;5;124mf\u001b[39m\u001b[38;5;124m\"\u001b[39m\u001b[38;5;130;01m\\n\u001b[39;00m\u001b[38;5;132;01m{\u001b[39;00msep\u001b[38;5;132;01m}\u001b[39;00m\u001b[38;5;130;01m\\n\u001b[39;00m\u001b[38;5;132;01m{\u001b[39;00mmsg\u001b[38;5;132;01m}\u001b[39;00m\u001b[38;5;130;01m\\n\u001b[39;00m\u001b[38;5;132;01m{\u001b[39;00msep\u001b[38;5;132;01m}\u001b[39;00m\u001b[38;5;130;01m\\n\u001b[39;00m\u001b[38;5;124m\"\u001b[39m\n\u001b[1;32m--> 583\u001b[0m \u001b[38;5;28;01mraise\u001b[39;00m \u001b[38;5;167;01mLookupError\u001b[39;00m(resource_not_found)\n",
      "\u001b[1;31mLookupError\u001b[0m: \n**********************************************************************\n  Resource \u001b[93mwordnet\u001b[0m not found.\n  Please use the NLTK Downloader to obtain the resource:\n\n  \u001b[31m>>> import nltk\n  >>> nltk.download('wordnet')\n  \u001b[0m\n  For more information see: https://www.nltk.org/data.html\n\n  Attempted to load \u001b[93mcorpora/wordnet\u001b[0m\n\n  Searched in:\n    - 'C:\\\\Users\\\\daniel yoga p/nltk_data'\n    - 'C:\\\\Users\\\\daniel yoga p\\\\AppData\\\\Local\\\\Programs\\\\Python\\\\Python311\\\\nltk_data'\n    - 'C:\\\\Users\\\\daniel yoga p\\\\AppData\\\\Local\\\\Programs\\\\Python\\\\Python311\\\\share\\\\nltk_data'\n    - 'C:\\\\Users\\\\daniel yoga p\\\\AppData\\\\Local\\\\Programs\\\\Python\\\\Python311\\\\lib\\\\nltk_data'\n    - 'C:\\\\Users\\\\daniel yoga p\\\\AppData\\\\Roaming\\\\nltk_data'\n    - 'C:\\\\nltk_data'\n    - 'D:\\\\nltk_data'\n    - 'E:\\\\nltk_data'\n**********************************************************************\n"
     ]
    }
   ],
   "source": [
    "lemmatizer.lemmatize('gave')"
   ]
  },
  {
   "cell_type": "code",
   "execution_count": 156,
   "metadata": {
    "scrolled": true
   },
   "outputs": [
    {
     "data": {
      "text/plain": [
       "['current',\n",
       " 'job',\n",
       " 'data',\n",
       " 'scientist',\n",
       " 'give',\n",
       " 'vast',\n",
       " 'amount',\n",
       " 'benefit',\n",
       " 'would',\n",
       " 'thank',\n",
       " 'past',\n",
       " 'refere',\n",
       " 'guidanc']"
      ]
     },
     "execution_count": 156,
     "metadata": {},
     "output_type": "execute_result"
    }
   ],
   "source": [
    "text_steammed = [stemmer.stem(text)for text in text_digit_removed]\n",
    "text_steammed"
   ]
  },
  {
   "cell_type": "markdown",
   "metadata": {},
   "source": [
    "### merging"
   ]
  },
  {
   "cell_type": "code",
   "execution_count": 158,
   "metadata": {},
   "outputs": [
    {
     "data": {
      "text/plain": [
       "'current job data scientist give vast amount benefit would thank past refere guidanc'"
      ]
     },
     "execution_count": 158,
     "metadata": {},
     "output_type": "execute_result"
    }
   ],
   "source": [
    "text_processed = \" \".join(text_steammed)\n",
    "text_processed"
   ]
  },
  {
   "cell_type": "code",
   "execution_count": null,
   "metadata": {},
   "outputs": [],
   "source": []
  },
  {
   "cell_type": "code",
   "execution_count": null,
   "metadata": {},
   "outputs": [],
   "source": []
  },
  {
   "cell_type": "markdown",
   "metadata": {},
   "source": [
    "### NLTK"
   ]
  },
  {
   "cell_type": "code",
   "execution_count": 21,
   "metadata": {
    "scrolled": true
   },
   "outputs": [
    {
     "name": "stdout",
     "output_type": "stream",
     "text": [
      "Collecting nltk"
     ]
    },
    {
     "name": "stderr",
     "output_type": "stream",
     "text": [
      "\n",
      "[notice] A new release of pip is available: 23.1.2 -> 23.2.1\n",
      "[notice] To update, run: python.exe -m pip install --upgrade pip\n"
     ]
    },
    {
     "name": "stdout",
     "output_type": "stream",
     "text": [
      "\n",
      "  Downloading nltk-3.8.1-py3-none-any.whl (1.5 MB)\n",
      "                                              0.0/1.5 MB ? eta -:--:--\n",
      "     ----------                               0.4/1.5 MB 8.3 MB/s eta 0:00:01\n",
      "     -------------------------                1.0/1.5 MB 10.1 MB/s eta 0:00:01\n",
      "     ---------------------------------------  1.5/1.5 MB 10.6 MB/s eta 0:00:01\n",
      "     ---------------------------------------  1.5/1.5 MB 10.6 MB/s eta 0:00:01\n",
      "     ---------------------------------------- 1.5/1.5 MB 6.9 MB/s eta 0:00:00\n",
      "Collecting click (from nltk)\n",
      "  Downloading click-8.1.6-py3-none-any.whl (97 kB)\n",
      "                                              0.0/97.9 kB ? eta -:--:--\n",
      "     -------------------------------------    92.2/97.9 kB 5.5 MB/s eta 0:00:01\n",
      "     ---------------------------------------- 97.9/97.9 kB 1.1 MB/s eta 0:00:00\n",
      "Requirement already satisfied: joblib in c:\\users\\daniel yoga p\\appdata\\local\\programs\\python\\python311\\lib\\site-packages (from nltk) (1.3.1)\n",
      "Collecting regex>=2021.8.3 (from nltk)\n",
      "  Downloading regex-2023.6.3-cp311-cp311-win_amd64.whl (268 kB)\n",
      "                                              0.0/268.0 kB ? eta -:--:--\n",
      "     ------------------------------------  266.2/268.0 kB 17.1 MB/s eta 0:00:01\n",
      "     -------------------------------------- 268.0/268.0 kB 3.3 MB/s eta 0:00:00\n",
      "Collecting tqdm (from nltk)\n",
      "  Downloading tqdm-4.65.0-py3-none-any.whl (77 kB)\n",
      "                                              0.0/77.1 kB ? eta -:--:--\n",
      "     -------------------------------------    71.7/77.1 kB ? eta -:--:--\n",
      "     ---------------------------------------- 77.1/77.1 kB 2.2 MB/s eta 0:00:00\n",
      "Requirement already satisfied: colorama in c:\\users\\daniel yoga p\\appdata\\local\\programs\\python\\python311\\lib\\site-packages (from click->nltk) (0.4.6)\n",
      "Installing collected packages: tqdm, regex, click, nltk\n",
      "Successfully installed click-8.1.6 nltk-3.8.1 regex-2023.6.3 tqdm-4.65.0\n"
     ]
    }
   ],
   "source": [
    "!pip install nltk\n"
   ]
  },
  {
   "cell_type": "code",
   "execution_count": 25,
   "metadata": {
    "scrolled": true
   },
   "outputs": [
    {
     "name": "stdout",
     "output_type": "stream",
     "text": [
      "Requirement already satisfied: pip in c:\\users\\daniel yoga p\\appdata\\local\\programs\\python\\python311\\lib\\site-packages (23.1.2)"
     ]
    },
    {
     "name": "stderr",
     "output_type": "stream",
     "text": [
      "ERROR: To modify pip, please run the following command:\n",
      "C:\\Users\\daniel yoga p\\AppData\\Local\\Programs\\Python\\Python311\\python.exe -m pip install --upgrade pip\n",
      "\n",
      "[notice] A new release of pip is available: 23.1.2 -> 23.2.1\n",
      "[notice] To update, run: python.exe -m pip install --upgrade pip\n"
     ]
    },
    {
     "name": "stdout",
     "output_type": "stream",
     "text": [
      "\n",
      "Collecting pip\n",
      "  Downloading pip-23.2.1-py3-none-any.whl (2.1 MB)\n",
      "                                              0.0/2.1 MB ? eta -:--:--\n",
      "     -------                                  0.4/2.1 MB 7.6 MB/s eta 0:00:01\n",
      "     ------------                             0.7/2.1 MB 7.0 MB/s eta 0:00:01\n",
      "     -----------------------                  1.2/2.1 MB 8.7 MB/s eta 0:00:01\n",
      "     ------------------------------------     1.9/2.1 MB 10.1 MB/s eta 0:00:01\n",
      "     --------------------------------------   2.0/2.1 MB 10.6 MB/s eta 0:00:01\n",
      "     --------------------------------------   2.0/2.1 MB 10.6 MB/s eta 0:00:01\n",
      "     ---------------------------------------  2.0/2.1 MB 6.5 MB/s eta 0:00:01\n",
      "     ---------------------------------------  2.1/2.1 MB 6.3 MB/s eta 0:00:01\n",
      "     ---------------------------------------  2.1/2.1 MB 6.3 MB/s eta 0:00:01\n",
      "     ---------------------------------------  2.1/2.1 MB 6.3 MB/s eta 0:00:01\n",
      "     ---------------------------------------- 2.1/2.1 MB 4.0 MB/s eta 0:00:00\n"
     ]
    }
   ],
   "source": [
    "!pip install --upgrade pip"
   ]
  },
  {
   "cell_type": "code",
   "execution_count": 34,
   "metadata": {
    "scrolled": true
   },
   "outputs": [
    {
     "name": "stderr",
     "output_type": "stream",
     "text": [
      "[nltk_data] Downloading package punkt to C:\\Users\\daniel yoga\n",
      "[nltk_data]     p\\AppData\\Roaming\\nltk_data...\n",
      "[nltk_data]   Package punkt is already up-to-date!\n",
      "[nltk_data] Downloading package stopwords to C:\\Users\\daniel yoga\n",
      "[nltk_data]     p\\AppData\\Roaming\\nltk_data...\n",
      "[nltk_data]   Unzipping corpora\\stopwords.zip.\n"
     ]
    },
    {
     "data": {
      "text/plain": [
       "True"
      ]
     },
     "execution_count": 34,
     "metadata": {},
     "output_type": "execute_result"
    }
   ],
   "source": [
    "import nltk\n",
    "nltk.download('punkt')\n",
    "nltk.download('stopwords')"
   ]
  },
  {
   "cell_type": "code",
   "execution_count": 32,
   "metadata": {},
   "outputs": [],
   "source": [
    "from nltk.corpus import stopwords\n",
    "\n"
   ]
  },
  {
   "cell_type": "code",
   "execution_count": 30,
   "metadata": {},
   "outputs": [],
   "source": [
    "from nltk.corpus import stopwords\n",
    "from nltk import word_tokenize"
   ]
  },
  {
   "cell_type": "code",
   "execution_count": 35,
   "metadata": {},
   "outputs": [
    {
     "data": {
      "text/plain": [
       "['Yonanda', 'live', 'Tokyo', '.', 'She', 'likes', 'tha', 'place', 'much']"
      ]
     },
     "execution_count": 35,
     "metadata": {},
     "output_type": "execute_result"
    }
   ],
   "source": [
    "text = \"Yonanda live in Tokyo. She likes tha place so much\"\n",
    "stop_words = stopwords.words('english')\n",
    "filtered_text = []\n",
    "for word in word_tokenize(text):\n",
    "    if word not in stop_words:\n",
    "        filtered_text.append(word)\n",
    "filtered_text"
   ]
  },
  {
   "cell_type": "code",
   "execution_count": 38,
   "metadata": {
    "scrolled": true
   },
   "outputs": [
    {
     "data": {
      "text/plain": [
       "['Yonanda', 'live', 'Tokyo', '.', 'She', 'likes', 'tha', 'place', 'much']"
      ]
     },
     "execution_count": 38,
     "metadata": {},
     "output_type": "execute_result"
    }
   ],
   "source": [
    "text = \"Yonanda live in Tokyo. She likes tha place so much\"\n",
    "stop_words = stopwords.words('english')\n",
    "filtered_text = [w for w in word_tokenize(text) if not w in stop_words]\n",
    "filtered_text"
   ]
  },
  {
   "cell_type": "markdown",
   "metadata": {},
   "source": [
    "### Non-ASCII characters Removal"
   ]
  },
  {
   "cell_type": "code",
   "execution_count": 40,
   "metadata": {},
   "outputs": [
    {
     "data": {
      "text/plain": [
       "'0123456789abcdefghijklmnopqrstuvwxyzABCDEFGHIJKLMNOPQRSTUVWXYZ!\"#$%&\\'()*+,-./:;<=>?@[\\\\]^_`{|}~ \\t\\n\\r\\x0b\\x0c'"
      ]
     },
     "execution_count": 40,
     "metadata": {},
     "output_type": "execute_result"
    }
   ],
   "source": [
    "from string import printable\n",
    "printable"
   ]
  },
  {
   "cell_type": "markdown",
   "metadata": {},
   "source": [
    "### punctuatiation Removal"
   ]
  },
  {
   "cell_type": "code",
   "execution_count": 41,
   "metadata": {},
   "outputs": [],
   "source": [
    "from string import punctuation"
   ]
  },
  {
   "cell_type": "code",
   "execution_count": 43,
   "metadata": {},
   "outputs": [
    {
     "data": {
      "text/plain": [
       "['You', 'know', 'I', 'love', 'it']"
      ]
     },
     "execution_count": 43,
     "metadata": {},
     "output_type": "execute_result"
    }
   ],
   "source": [
    "text = \"You know, I love it\"\n",
    "filtered_text = [w for w in word_tokenize(text) if not w in punctuation]\n",
    "filtered_text"
   ]
  },
  {
   "cell_type": "code",
   "execution_count": 44,
   "metadata": {},
   "outputs": [
    {
     "data": {
      "text/plain": [
       "['WW2', 'wa', 'in']"
      ]
     },
     "execution_count": 44,
     "metadata": {},
     "output_type": "execute_result"
    }
   ],
   "source": [
    "text=\"WW2 wa in 1939\"\n",
    "filtered_text = [w for w in word_tokenize(text) if not w.isdigit()]\n",
    "filtered_text"
   ]
  },
  {
   "cell_type": "code",
   "execution_count": 46,
   "metadata": {},
   "outputs": [
    {
     "data": {
      "text/plain": [
       "'WW wa in '"
      ]
     },
     "execution_count": 46,
     "metadata": {},
     "output_type": "execute_result"
    }
   ],
   "source": [
    "text=\"WW2 wa in 1939\"\n",
    "filtered_text =''.join(filter(lambda x: not x.isdigit()and x not in punctuation, text))\n",
    "filtered_text"
   ]
  },
  {
   "cell_type": "code",
   "execution_count": 51,
   "metadata": {},
   "outputs": [],
   "source": [
    "from nltk.stem import WordNetLemmatizer"
   ]
  },
  {
   "cell_type": "code",
   "execution_count": 52,
   "metadata": {},
   "outputs": [
    {
     "ename": "AttributeError",
     "evalue": "'WordNetLemmatizer' object has no attribute 'lemmatizer'",
     "output_type": "error",
     "traceback": [
      "\u001b[1;31m---------------------------------------------------------------------------\u001b[0m",
      "\u001b[1;31mAttributeError\u001b[0m                            Traceback (most recent call last)",
      "Cell \u001b[1;32mIn[52], line 2\u001b[0m\n\u001b[0;32m      1\u001b[0m lemmatizer \u001b[38;5;241m=\u001b[39m WordNetLemmatizer()\n\u001b[1;32m----> 2\u001b[0m \u001b[38;5;28mprint\u001b[39m(\u001b[38;5;124m\"\u001b[39m\u001b[38;5;124mflies:\u001b[39m\u001b[38;5;124m\"\u001b[39m, \u001b[43mlemmatizer\u001b[49m\u001b[38;5;241;43m.\u001b[39;49m\u001b[43mlemmatizer\u001b[49m(\u001b[38;5;124m\"\u001b[39m\u001b[38;5;124mflies\u001b[39m\u001b[38;5;124m\"\u001b[39m))\n",
      "\u001b[1;31mAttributeError\u001b[0m: 'WordNetLemmatizer' object has no attribute 'lemmatizer'"
     ]
    }
   ],
   "source": [
    "lemmatizer = WordNetLemmatizer()\n",
    "print(\"flies:\", lemmatizer.lemmatizer(\"flies\"))"
   ]
  },
  {
   "cell_type": "code",
   "execution_count": 53,
   "metadata": {
    "scrolled": false
   },
   "outputs": [
    {
     "name": "stdout",
     "output_type": "stream",
     "text": [
      "flies: fli\n"
     ]
    }
   ],
   "source": [
    "from nltk.stem import PorterStemmer\n",
    "stemmer = PorterStemmer()\n",
    "print(\"flies:\", stemmer.stem(\"flies\"))"
   ]
  },
  {
   "cell_type": "code",
   "execution_count": 59,
   "metadata": {},
   "outputs": [
    {
     "name": "stdout",
     "output_type": "stream",
     "text": [
      "Collecting openpyxl\n",
      "  Downloading openpyxl-3.1.2-py2.py3-none-any.whl (249 kB)\n",
      "                                              0.0/250.0 kB ? eta -:--:--\n",
      "     -------------------------------------  245.8/250.0 kB 7.6 MB/s eta 0:00:01\n",
      "     -------------------------------------- 250.0/250.0 kB 3.1 MB/s eta 0:00:00\n",
      "Collecting et-xmlfile (from openpyxl)\n",
      "  Downloading et_xmlfile-1.1.0-py3-none-any.whl (4.7 kB)\n",
      "Installing collected packages: et-xmlfile, openpyxl\n",
      "Successfully installed et-xmlfile-1.1.0 openpyxl-3.1.2\n"
     ]
    },
    {
     "name": "stderr",
     "output_type": "stream",
     "text": [
      "\n",
      "[notice] A new release of pip is available: 23.1.2 -> 23.2.1\n",
      "[notice] To update, run: python.exe -m pip install --upgrade pip\n"
     ]
    }
   ],
   "source": [
    "import os\n",
    "!pip install openpyxl\n"
   ]
  },
  {
   "cell_type": "code",
   "execution_count": 60,
   "metadata": {
    "scrolled": true
   },
   "outputs": [
    {
     "name": "stdout",
     "output_type": "stream",
     "text": [
      "Requirement already satisfied: pip in c:\\users\\daniel yoga p\\appdata\\local\\programs\\python\\python311\\lib\\site-packages (23.1.2)\n",
      "Collecting pip\n",
      "  Using cached pip-23.2.1-py3-none-any.whl (2.1 MB)\n"
     ]
    },
    {
     "name": "stderr",
     "output_type": "stream",
     "text": [
      "ERROR: To modify pip, please run the following command:\n",
      "C:\\Users\\daniel yoga p\\AppData\\Local\\Programs\\Python\\Python311\\python.exe -m pip install --upgrade pip\n",
      "\n",
      "[notice] A new release of pip is available: 23.1.2 -> 23.2.1\n",
      "[notice] To update, run: python.exe -m pip install --upgrade pip\n"
     ]
    }
   ],
   "source": [
    "os.getcwd()\n",
    "!pip install --upgrade pip"
   ]
  },
  {
   "cell_type": "markdown",
   "metadata": {},
   "source": [
    "## Vectorization"
   ]
  },
  {
   "cell_type": "code",
   "execution_count": 168,
   "metadata": {},
   "outputs": [
    {
     "data": {
      "text/html": [
       "<div>\n",
       "<style scoped>\n",
       "    .dataframe tbody tr th:only-of-type {\n",
       "        vertical-align: middle;\n",
       "    }\n",
       "\n",
       "    .dataframe tbody tr th {\n",
       "        vertical-align: top;\n",
       "    }\n",
       "\n",
       "    .dataframe thead th {\n",
       "        text-align: right;\n",
       "    }\n",
       "</style>\n",
       "<table border=\"1\" class=\"dataframe\">\n",
       "  <thead>\n",
       "    <tr style=\"text-align: right;\">\n",
       "      <th></th>\n",
       "      <th>review</th>\n",
       "      <th>sentiment</th>\n",
       "    </tr>\n",
       "  </thead>\n",
       "  <tbody>\n",
       "    <tr>\n",
       "      <th>0</th>\n",
       "      <td>This is good product</td>\n",
       "      <td>positive</td>\n",
       "    </tr>\n",
       "    <tr>\n",
       "      <th>1</th>\n",
       "      <td>This is also fine.</td>\n",
       "      <td>positive</td>\n",
       "    </tr>\n",
       "    <tr>\n",
       "      <th>2</th>\n",
       "      <td>Good quality for this one.</td>\n",
       "      <td>positive</td>\n",
       "    </tr>\n",
       "    <tr>\n",
       "      <th>3</th>\n",
       "      <td>This product is good, I guess.</td>\n",
       "      <td>positive</td>\n",
       "    </tr>\n",
       "    <tr>\n",
       "      <th>4</th>\n",
       "      <td>But, this is bad.</td>\n",
       "      <td>negative</td>\n",
       "    </tr>\n",
       "    <tr>\n",
       "      <th>5</th>\n",
       "      <td>This one is bad too!</td>\n",
       "      <td>negative</td>\n",
       "    </tr>\n",
       "    <tr>\n",
       "      <th>6</th>\n",
       "      <td>It is horrible!</td>\n",
       "      <td>negative</td>\n",
       "    </tr>\n",
       "    <tr>\n",
       "      <th>7</th>\n",
       "      <td>The quality of this one is bad.</td>\n",
       "      <td>negative</td>\n",
       "    </tr>\n",
       "  </tbody>\n",
       "</table>\n",
       "</div>"
      ],
      "text/plain": [
       "                            review sentiment\n",
       "0             This is good product  positive\n",
       "1               This is also fine.  positive\n",
       "2       Good quality for this one.  positive\n",
       "3   This product is good, I guess.  positive\n",
       "4                But, this is bad.  negative\n",
       "5             This one is bad too!  negative\n",
       "6                  It is horrible!  negative\n",
       "7  The quality of this one is bad.  negative"
      ]
     },
     "execution_count": 168,
     "metadata": {},
     "output_type": "execute_result"
    }
   ],
   "source": [
    "import pandas as pd\n",
    "\n",
    "data= pd.read_excel('..//data//input//sample_data.xlsx')\n",
    "data"
   ]
  },
  {
   "cell_type": "code",
   "execution_count": 170,
   "metadata": {},
   "outputs": [],
   "source": [
    "from sklearn.model_selection import train_test_split\n",
    "#stratify data harus sama\n",
    "X= data['review']\n",
    "y= data['sentiment']\n",
    "X_train, X_test, y_train, y_test = train_test_split(data['review'],\n",
    "                                                   data['sentiment'],\n",
    "                                                   test_size=0.25, stratify=y)"
   ]
  },
  {
   "cell_type": "code",
   "execution_count": 163,
   "metadata": {},
   "outputs": [
    {
     "data": {
      "text/plain": [
       "0               This is good product\n",
       "1                 This is also fine.\n",
       "2         Good quality for this one.\n",
       "3     This product is good, I guess.\n",
       "4                  But, this is bad.\n",
       "5               This one is bad too!\n",
       "6                    It is horrible!\n",
       "7    The quality of this one is bad.\n",
       "Name: review, dtype: object"
      ]
     },
     "execution_count": 163,
     "metadata": {},
     "output_type": "execute_result"
    }
   ],
   "source": []
  },
  {
   "cell_type": "code",
   "execution_count": 67,
   "metadata": {},
   "outputs": [
    {
     "data": {
      "text/html": [
       "<style>#sk-container-id-1 {color: black;}#sk-container-id-1 pre{padding: 0;}#sk-container-id-1 div.sk-toggleable {background-color: white;}#sk-container-id-1 label.sk-toggleable__label {cursor: pointer;display: block;width: 100%;margin-bottom: 0;padding: 0.3em;box-sizing: border-box;text-align: center;}#sk-container-id-1 label.sk-toggleable__label-arrow:before {content: \"▸\";float: left;margin-right: 0.25em;color: #696969;}#sk-container-id-1 label.sk-toggleable__label-arrow:hover:before {color: black;}#sk-container-id-1 div.sk-estimator:hover label.sk-toggleable__label-arrow:before {color: black;}#sk-container-id-1 div.sk-toggleable__content {max-height: 0;max-width: 0;overflow: hidden;text-align: left;background-color: #f0f8ff;}#sk-container-id-1 div.sk-toggleable__content pre {margin: 0.2em;color: black;border-radius: 0.25em;background-color: #f0f8ff;}#sk-container-id-1 input.sk-toggleable__control:checked~div.sk-toggleable__content {max-height: 200px;max-width: 100%;overflow: auto;}#sk-container-id-1 input.sk-toggleable__control:checked~label.sk-toggleable__label-arrow:before {content: \"▾\";}#sk-container-id-1 div.sk-estimator input.sk-toggleable__control:checked~label.sk-toggleable__label {background-color: #d4ebff;}#sk-container-id-1 div.sk-label input.sk-toggleable__control:checked~label.sk-toggleable__label {background-color: #d4ebff;}#sk-container-id-1 input.sk-hidden--visually {border: 0;clip: rect(1px 1px 1px 1px);clip: rect(1px, 1px, 1px, 1px);height: 1px;margin: -1px;overflow: hidden;padding: 0;position: absolute;width: 1px;}#sk-container-id-1 div.sk-estimator {font-family: monospace;background-color: #f0f8ff;border: 1px dotted black;border-radius: 0.25em;box-sizing: border-box;margin-bottom: 0.5em;}#sk-container-id-1 div.sk-estimator:hover {background-color: #d4ebff;}#sk-container-id-1 div.sk-parallel-item::after {content: \"\";width: 100%;border-bottom: 1px solid gray;flex-grow: 1;}#sk-container-id-1 div.sk-label:hover label.sk-toggleable__label {background-color: #d4ebff;}#sk-container-id-1 div.sk-serial::before {content: \"\";position: absolute;border-left: 1px solid gray;box-sizing: border-box;top: 0;bottom: 0;left: 50%;z-index: 0;}#sk-container-id-1 div.sk-serial {display: flex;flex-direction: column;align-items: center;background-color: white;padding-right: 0.2em;padding-left: 0.2em;position: relative;}#sk-container-id-1 div.sk-item {position: relative;z-index: 1;}#sk-container-id-1 div.sk-parallel {display: flex;align-items: stretch;justify-content: center;background-color: white;position: relative;}#sk-container-id-1 div.sk-item::before, #sk-container-id-1 div.sk-parallel-item::before {content: \"\";position: absolute;border-left: 1px solid gray;box-sizing: border-box;top: 0;bottom: 0;left: 50%;z-index: -1;}#sk-container-id-1 div.sk-parallel-item {display: flex;flex-direction: column;z-index: 1;position: relative;background-color: white;}#sk-container-id-1 div.sk-parallel-item:first-child::after {align-self: flex-end;width: 50%;}#sk-container-id-1 div.sk-parallel-item:last-child::after {align-self: flex-start;width: 50%;}#sk-container-id-1 div.sk-parallel-item:only-child::after {width: 0;}#sk-container-id-1 div.sk-dashed-wrapped {border: 1px dashed gray;margin: 0 0.4em 0.5em 0.4em;box-sizing: border-box;padding-bottom: 0.4em;background-color: white;}#sk-container-id-1 div.sk-label label {font-family: monospace;font-weight: bold;display: inline-block;line-height: 1.2em;}#sk-container-id-1 div.sk-label-container {text-align: center;}#sk-container-id-1 div.sk-container {/* jupyter's `normalize.less` sets `[hidden] { display: none; }` but bootstrap.min.css set `[hidden] { display: none !important; }` so we also need the `!important` here to be able to override the default hidden behavior on the sphinx rendered scikit-learn.org. See: https://github.com/scikit-learn/scikit-learn/issues/21755 */display: inline-block !important;position: relative;}#sk-container-id-1 div.sk-text-repr-fallback {display: none;}</style><div id=\"sk-container-id-1\" class=\"sk-top-container\"><div class=\"sk-text-repr-fallback\"><pre>TfidfVectorizer()</pre><b>In a Jupyter environment, please rerun this cell to show the HTML representation or trust the notebook. <br />On GitHub, the HTML representation is unable to render, please try loading this page with nbviewer.org.</b></div><div class=\"sk-container\" hidden><div class=\"sk-item\"><div class=\"sk-estimator sk-toggleable\"><input class=\"sk-toggleable__control sk-hidden--visually\" id=\"sk-estimator-id-1\" type=\"checkbox\" checked><label for=\"sk-estimator-id-1\" class=\"sk-toggleable__label sk-toggleable__label-arrow\">TfidfVectorizer</label><div class=\"sk-toggleable__content\"><pre>TfidfVectorizer()</pre></div></div></div></div></div>"
      ],
      "text/plain": [
       "TfidfVectorizer()"
      ]
     },
     "execution_count": 67,
     "metadata": {},
     "output_type": "execute_result"
    }
   ],
   "source": [
    "from sklearn.feature_extraction.text import TfidfVectorizer\n",
    "#define\n",
    "vectorizer = TfidfVectorizer(lowercase=True,\n",
    "                             binary=False,\n",
    "                             use_idf=True,\n",
    "                             max_features=None)\n",
    "vectorizer.fit(X_train)\n",
    "\n"
   ]
  },
  {
   "cell_type": "code",
   "execution_count": 69,
   "metadata": {},
   "outputs": [
    {
     "data": {
      "text/plain": [
       "<6x13 sparse matrix of type '<class 'numpy.float64'>'\n",
       "\twith 27 stored elements in Compressed Sparse Row format>"
      ]
     },
     "execution_count": 69,
     "metadata": {},
     "output_type": "execute_result"
    }
   ],
   "source": [
    "X_train_vector = vectorizer.transform(X_train)\n",
    "X_train_vector\n"
   ]
  },
  {
   "cell_type": "code",
   "execution_count": 179,
   "metadata": {},
   "outputs": [],
   "source": [
    "X_test_vector = vectorizer.transform(X_test)"
   ]
  },
  {
   "cell_type": "code",
   "execution_count": 180,
   "metadata": {},
   "outputs": [
    {
     "data": {
      "text/plain": [
       "<2x13 sparse matrix of type '<class 'numpy.float64'>'\n",
       "\twith 10 stored elements in Compressed Sparse Row format>"
      ]
     },
     "execution_count": 180,
     "metadata": {},
     "output_type": "execute_result"
    }
   ],
   "source": [
    "X_test_vector"
   ]
  },
  {
   "cell_type": "code",
   "execution_count": 72,
   "metadata": {},
   "outputs": [
    {
     "data": {
      "text/plain": [
       "array([[0.        , 0.48967012, 0.        , 0.        , 0.        ,\n",
       "        0.        , 0.        , 0.30593501, 0.48967012, 0.        ,\n",
       "        0.        , 0.26507372, 0.59714826],\n",
       "       [0.        , 0.56160769, 0.68487548, 0.        , 0.        ,\n",
       "        0.        , 0.        , 0.35088001, 0.        , 0.        ,\n",
       "        0.        , 0.30401578, 0.        ],\n",
       "       [0.        , 0.        , 0.        , 0.        , 0.        ,\n",
       "        0.42842844, 0.61883685, 0.31704666, 0.        , 0.50745507,\n",
       "        0.        , 0.27470127, 0.        ],\n",
       "       [0.63763824, 0.        , 0.        , 0.63763824, 0.        ,\n",
       "        0.        , 0.        , 0.32667911, 0.        , 0.        ,\n",
       "        0.        , 0.28304719, 0.        ],\n",
       "       [0.        , 0.        , 0.        , 0.        , 0.54645897,\n",
       "        0.37832034, 0.        , 0.        , 0.44810418, 0.        ,\n",
       "        0.54645897, 0.24257278, 0.        ],\n",
       "       [0.        , 0.        , 0.        , 0.        , 0.        ,\n",
       "        0.54540774, 0.        , 0.40361397, 0.        , 0.64601203,\n",
       "        0.        , 0.34970648, 0.        ]])"
      ]
     },
     "execution_count": 72,
     "metadata": {},
     "output_type": "execute_result"
    }
   ],
   "source": [
    "X_train_vector.toarray()"
   ]
  },
  {
   "cell_type": "code",
   "execution_count": 182,
   "metadata": {},
   "outputs": [
    {
     "ename": "AttributeError",
     "evalue": "'TfidfVectorizer' object has no attribute 'get_feature_names'",
     "output_type": "error",
     "traceback": [
      "\u001b[1;31m---------------------------------------------------------------------------\u001b[0m",
      "\u001b[1;31mAttributeError\u001b[0m                            Traceback (most recent call last)",
      "Cell \u001b[1;32mIn[182], line 1\u001b[0m\n\u001b[1;32m----> 1\u001b[0m \u001b[43mvectorizer\u001b[49m\u001b[38;5;241;43m.\u001b[39;49m\u001b[43mget_feature_names\u001b[49m()\n",
      "\u001b[1;31mAttributeError\u001b[0m: 'TfidfVectorizer' object has no attribute 'get_feature_names'"
     ]
    }
   ],
   "source": [
    "vectorizer.get_feature_names()"
   ]
  },
  {
   "cell_type": "code",
   "execution_count": 75,
   "metadata": {},
   "outputs": [
    {
     "data": {
      "text/html": [
       "<style>#sk-container-id-2 {color: black;}#sk-container-id-2 pre{padding: 0;}#sk-container-id-2 div.sk-toggleable {background-color: white;}#sk-container-id-2 label.sk-toggleable__label {cursor: pointer;display: block;width: 100%;margin-bottom: 0;padding: 0.3em;box-sizing: border-box;text-align: center;}#sk-container-id-2 label.sk-toggleable__label-arrow:before {content: \"▸\";float: left;margin-right: 0.25em;color: #696969;}#sk-container-id-2 label.sk-toggleable__label-arrow:hover:before {color: black;}#sk-container-id-2 div.sk-estimator:hover label.sk-toggleable__label-arrow:before {color: black;}#sk-container-id-2 div.sk-toggleable__content {max-height: 0;max-width: 0;overflow: hidden;text-align: left;background-color: #f0f8ff;}#sk-container-id-2 div.sk-toggleable__content pre {margin: 0.2em;color: black;border-radius: 0.25em;background-color: #f0f8ff;}#sk-container-id-2 input.sk-toggleable__control:checked~div.sk-toggleable__content {max-height: 200px;max-width: 100%;overflow: auto;}#sk-container-id-2 input.sk-toggleable__control:checked~label.sk-toggleable__label-arrow:before {content: \"▾\";}#sk-container-id-2 div.sk-estimator input.sk-toggleable__control:checked~label.sk-toggleable__label {background-color: #d4ebff;}#sk-container-id-2 div.sk-label input.sk-toggleable__control:checked~label.sk-toggleable__label {background-color: #d4ebff;}#sk-container-id-2 input.sk-hidden--visually {border: 0;clip: rect(1px 1px 1px 1px);clip: rect(1px, 1px, 1px, 1px);height: 1px;margin: -1px;overflow: hidden;padding: 0;position: absolute;width: 1px;}#sk-container-id-2 div.sk-estimator {font-family: monospace;background-color: #f0f8ff;border: 1px dotted black;border-radius: 0.25em;box-sizing: border-box;margin-bottom: 0.5em;}#sk-container-id-2 div.sk-estimator:hover {background-color: #d4ebff;}#sk-container-id-2 div.sk-parallel-item::after {content: \"\";width: 100%;border-bottom: 1px solid gray;flex-grow: 1;}#sk-container-id-2 div.sk-label:hover label.sk-toggleable__label {background-color: #d4ebff;}#sk-container-id-2 div.sk-serial::before {content: \"\";position: absolute;border-left: 1px solid gray;box-sizing: border-box;top: 0;bottom: 0;left: 50%;z-index: 0;}#sk-container-id-2 div.sk-serial {display: flex;flex-direction: column;align-items: center;background-color: white;padding-right: 0.2em;padding-left: 0.2em;position: relative;}#sk-container-id-2 div.sk-item {position: relative;z-index: 1;}#sk-container-id-2 div.sk-parallel {display: flex;align-items: stretch;justify-content: center;background-color: white;position: relative;}#sk-container-id-2 div.sk-item::before, #sk-container-id-2 div.sk-parallel-item::before {content: \"\";position: absolute;border-left: 1px solid gray;box-sizing: border-box;top: 0;bottom: 0;left: 50%;z-index: -1;}#sk-container-id-2 div.sk-parallel-item {display: flex;flex-direction: column;z-index: 1;position: relative;background-color: white;}#sk-container-id-2 div.sk-parallel-item:first-child::after {align-self: flex-end;width: 50%;}#sk-container-id-2 div.sk-parallel-item:last-child::after {align-self: flex-start;width: 50%;}#sk-container-id-2 div.sk-parallel-item:only-child::after {width: 0;}#sk-container-id-2 div.sk-dashed-wrapped {border: 1px dashed gray;margin: 0 0.4em 0.5em 0.4em;box-sizing: border-box;padding-bottom: 0.4em;background-color: white;}#sk-container-id-2 div.sk-label label {font-family: monospace;font-weight: bold;display: inline-block;line-height: 1.2em;}#sk-container-id-2 div.sk-label-container {text-align: center;}#sk-container-id-2 div.sk-container {/* jupyter's `normalize.less` sets `[hidden] { display: none; }` but bootstrap.min.css set `[hidden] { display: none !important; }` so we also need the `!important` here to be able to override the default hidden behavior on the sphinx rendered scikit-learn.org. See: https://github.com/scikit-learn/scikit-learn/issues/21755 */display: inline-block !important;position: relative;}#sk-container-id-2 div.sk-text-repr-fallback {display: none;}</style><div id=\"sk-container-id-2\" class=\"sk-top-container\"><div class=\"sk-text-repr-fallback\"><pre>SVC()</pre><b>In a Jupyter environment, please rerun this cell to show the HTML representation or trust the notebook. <br />On GitHub, the HTML representation is unable to render, please try loading this page with nbviewer.org.</b></div><div class=\"sk-container\" hidden><div class=\"sk-item\"><div class=\"sk-estimator sk-toggleable\"><input class=\"sk-toggleable__control sk-hidden--visually\" id=\"sk-estimator-id-2\" type=\"checkbox\" checked><label for=\"sk-estimator-id-2\" class=\"sk-toggleable__label sk-toggleable__label-arrow\">SVC</label><div class=\"sk-toggleable__content\"><pre>SVC()</pre></div></div></div></div></div>"
      ],
      "text/plain": [
       "SVC()"
      ]
     },
     "execution_count": 75,
     "metadata": {},
     "output_type": "execute_result"
    }
   ],
   "source": [
    "from sklearn.svm import SVC\n",
    "model = SVC()\n",
    "model.fit(X_train_vector, y_train)\n"
   ]
  },
  {
   "cell_type": "code",
   "execution_count": 181,
   "metadata": {
    "scrolled": true
   },
   "outputs": [
    {
     "name": "stdout",
     "output_type": "stream",
     "text": [
      "              precision    recall  f1-score   support\n",
      "\n",
      "    negative       1.00      1.00      1.00         1\n",
      "    positive       1.00      1.00      1.00         1\n",
      "\n",
      "    accuracy                           1.00         2\n",
      "   macro avg       1.00      1.00      1.00         2\n",
      "weighted avg       1.00      1.00      1.00         2\n",
      "\n"
     ]
    }
   ],
   "source": [
    "from sklearn.metrics import classification_report\n",
    "\n",
    "y_pred = model.predict(X_test_vector)\n",
    "print(classification_report(y_test, y_pred))"
   ]
  },
  {
   "cell_type": "markdown",
   "metadata": {},
   "source": [
    "### Preproces in Data frame"
   ]
  },
  {
   "cell_type": "code",
   "execution_count": 183,
   "metadata": {},
   "outputs": [
    {
     "data": {
      "text/plain": [
       "'This is good product'"
      ]
     },
     "execution_count": 183,
     "metadata": {},
     "output_type": "execute_result"
    }
   ],
   "source": [
    "data.iloc[0]['review']"
   ]
  },
  {
   "cell_type": "code",
   "execution_count": 185,
   "metadata": {},
   "outputs": [
    {
     "data": {
      "text/plain": [
       "0               This is good product_daniel\n",
       "1                 This is also fine._daniel\n",
       "2         Good quality for this one._daniel\n",
       "3     This product is good, I guess._daniel\n",
       "4                  But, this is bad._daniel\n",
       "5               This one is bad too!_daniel\n",
       "6                    It is horrible!_daniel\n",
       "7    The quality of this one is bad._daniel\n",
       "Name: review, dtype: object"
      ]
     },
     "execution_count": 185,
     "metadata": {},
     "output_type": "execute_result"
    }
   ],
   "source": [
    "data['review'].apply(lambda x: x +'_daniel')\n"
   ]
  },
  {
   "cell_type": "code",
   "execution_count": 187,
   "metadata": {},
   "outputs": [],
   "source": [
    "tambah_daniel = lambda x: x +'daniel'\n",
    "\n",
    "def case_folding(word):\n",
    "    return word.lower"
   ]
  },
  {
   "cell_type": "code",
   "execution_count": 189,
   "metadata": {},
   "outputs": [
    {
     "data": {
      "text/plain": [
       "0                    [this, is, good, product]\n",
       "1                    [this, is, also, fine, .]\n",
       "2           [good, quality, for, this, one, .]\n",
       "3    [this, product, is, good, ,, i, guess, .]\n",
       "4                   [but, ,, this, is, bad, .]\n",
       "5                 [this, one, is, bad, too, !]\n",
       "6                        [it, is, horrible, !]\n",
       "7    [the, quality, of, this, one, is, bad, .]\n",
       "Name: review, dtype: object"
      ]
     },
     "execution_count": 189,
     "metadata": {},
     "output_type": "execute_result"
    }
   ],
   "source": [
    "data['review'].apply(lambda word: word_tokenize(word.lower()))"
   ]
  },
  {
   "cell_type": "code",
   "execution_count": 191,
   "metadata": {},
   "outputs": [
    {
     "data": {
      "text/plain": [
       "0                       [T, h,  ,  , g,  , p, r, u, c]\n",
       "1                       [T, h,  ,  , l,  , f, n, e, .]\n",
       "2           [G,  , q, u, l,  , f, r,  , h,  , n, e, .]\n",
       "3    [T, h,  , p, r, u, c,  ,  , g, ,,  , I,  , g, ...\n",
       "4                          [B, u, ,,  , h,  ,  , b, .]\n",
       "5                       [T, h,  , n, e,  ,  , b,  , !]\n",
       "6                       [I,  ,  , h, r, r, b, l, e, !]\n",
       "7    [T, h, e,  , q, u, l,  , f,  , h,  , n, e,  , ...\n",
       "Name: review, dtype: object"
      ]
     },
     "execution_count": 191,
     "metadata": {},
     "output_type": "execute_result"
    }
   ],
   "source": [
    "data['review']= data['review'].apply(lambda text: [word for word in text if word not in sw])\n",
    "data['review']"
   ]
  },
  {
   "cell_type": "markdown",
   "metadata": {},
   "source": [
    "### pipline"
   ]
  },
  {
   "cell_type": "code",
   "execution_count": null,
   "metadata": {},
   "outputs": [],
   "source": []
  }
 ],
 "metadata": {
  "colab": {
   "authorship_tag": "ABX9TyNB17S0yJwf3gskT2sXXy9X",
   "collapsed_sections": [],
   "name": "DTSense_Playground.ipynb",
   "provenance": []
  },
  "kernelspec": {
   "display_name": "Python 3 (ipykernel)",
   "language": "python",
   "name": "python3"
  },
  "language_info": {
   "codemirror_mode": {
    "name": "ipython",
    "version": 3
   },
   "file_extension": ".py",
   "mimetype": "text/x-python",
   "name": "python",
   "nbconvert_exporter": "python",
   "pygments_lexer": "ipython3",
   "version": "3.11.2"
  }
 },
 "nbformat": 4,
 "nbformat_minor": 1
}
